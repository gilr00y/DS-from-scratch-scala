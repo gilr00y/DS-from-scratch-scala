{
 "cells": [
  {
   "cell_type": "markdown",
   "metadata": {},
   "source": [
    "# Data Science from Scratch - In Scala"
   ]
  },
  {
   "cell_type": "code",
   "execution_count": 1,
   "metadata": {
    "collapsed": true,
    "jupyter": {
     "outputs_hidden": true
    }
   },
   "outputs": [
    {
     "name": "stderr",
     "output_type": "stream",
     "text": [
      "Downloading https://repo1.maven.org/maven2/org/typelevel/spire_2.12/0.14.1/spire_2.12-0.14.1.pom\n",
      "Downloaded https://repo1.maven.org/maven2/org/typelevel/spire_2.12/0.14.1/spire_2.12-0.14.1.pom\n",
      "Downloading https://repo1.maven.org/maven2/org/scala-lang/scala-library/2.12.1/scala-library-2.12.1.pom\n",
      "Downloading https://repo1.maven.org/maven2/org/typelevel/spire-macros_2.12/0.14.1/spire-macros_2.12-0.14.1.pom\n",
      "Downloading https://repo1.maven.org/maven2/org/typelevel/machinist_2.12/0.6.1/machinist_2.12-0.6.1.pom\n",
      "Downloading https://repo1.maven.org/maven2/org/typelevel/algebra_2.12/0.7.0/algebra_2.12-0.7.0.pom\n",
      "Downloaded https://repo1.maven.org/maven2/org/scala-lang/scala-library/2.12.1/scala-library-2.12.1.pom\n",
      "Downloaded https://repo1.maven.org/maven2/org/typelevel/machinist_2.12/0.6.1/machinist_2.12-0.6.1.pom\n",
      "Downloaded https://repo1.maven.org/maven2/org/typelevel/spire-macros_2.12/0.14.1/spire-macros_2.12-0.14.1.pom\n",
      "Downloaded https://repo1.maven.org/maven2/org/typelevel/algebra_2.12/0.7.0/algebra_2.12-0.7.0.pom\n",
      "Downloading https://repo1.maven.org/maven2/org/scala-lang/scala-reflect/2.12.0/scala-reflect-2.12.0.pom\n",
      "Downloading https://repo1.maven.org/maven2/org/typelevel/cats-kernel_2.12/0.9.0/cats-kernel_2.12-0.9.0.pom\n",
      "Downloaded https://repo1.maven.org/maven2/org/scala-lang/scala-reflect/2.12.0/scala-reflect-2.12.0.pom\n",
      "Downloaded https://repo1.maven.org/maven2/org/typelevel/cats-kernel_2.12/0.9.0/cats-kernel_2.12-0.9.0.pom\n",
      "Downloading https://repo1.maven.org/maven2/org/scala-lang/scala-library/2.12.1/scala-library-2.12.1.jar\n",
      "Downloading https://repo1.maven.org/maven2/org/typelevel/cats-kernel_2.12/0.9.0/cats-kernel_2.12-0.9.0-sources.jar\n",
      "Downloading https://repo1.maven.org/maven2/org/scala-lang/scala-reflect/2.12.0/scala-reflect-2.12.0.jar\n",
      "Downloading https://repo1.maven.org/maven2/org/typelevel/spire-macros_2.12/0.14.1/spire-macros_2.12-0.14.1.jar\n",
      "Downloading https://repo1.maven.org/maven2/org/typelevel/algebra_2.12/0.7.0/algebra_2.12-0.7.0.jar\n",
      "Downloading https://repo1.maven.org/maven2/org/typelevel/cats-kernel_2.12/0.9.0/cats-kernel_2.12-0.9.0.jar\n",
      "Downloaded https://repo1.maven.org/maven2/org/typelevel/cats-kernel_2.12/0.9.0/cats-kernel_2.12-0.9.0-sources.jar\n",
      "Downloading https://repo1.maven.org/maven2/org/scala-lang/scala-reflect/2.12.0/scala-reflect-2.12.0-sources.jar\n",
      "Downloaded https://repo1.maven.org/maven2/org/typelevel/spire-macros_2.12/0.14.1/spire-macros_2.12-0.14.1.jar\n",
      "Downloading https://repo1.maven.org/maven2/org/typelevel/machinist_2.12/0.6.1/machinist_2.12-0.6.1.jar\n",
      "Downloaded https://repo1.maven.org/maven2/org/typelevel/machinist_2.12/0.6.1/machinist_2.12-0.6.1.jar\n",
      "Downloading https://repo1.maven.org/maven2/org/typelevel/algebra_2.12/0.7.0/algebra_2.12-0.7.0-sources.jar\n",
      "Downloaded https://repo1.maven.org/maven2/org/typelevel/algebra_2.12/0.7.0/algebra_2.12-0.7.0-sources.jar\n",
      "Downloading https://repo1.maven.org/maven2/org/typelevel/spire_2.12/0.14.1/spire_2.12-0.14.1.jar\n",
      "Downloaded https://repo1.maven.org/maven2/org/scala-lang/scala-reflect/2.12.0/scala-reflect-2.12.0-sources.jar\n",
      "Downloading https://repo1.maven.org/maven2/org/scala-lang/scala-library/2.12.1/scala-library-2.12.1-sources.jar\n",
      "Downloaded https://repo1.maven.org/maven2/org/typelevel/algebra_2.12/0.7.0/algebra_2.12-0.7.0.jar\n",
      "Downloading https://repo1.maven.org/maven2/org/typelevel/spire-macros_2.12/0.14.1/spire-macros_2.12-0.14.1-sources.jar\n",
      "Downloaded https://repo1.maven.org/maven2/org/typelevel/spire-macros_2.12/0.14.1/spire-macros_2.12-0.14.1-sources.jar\n",
      "Downloading https://repo1.maven.org/maven2/org/typelevel/machinist_2.12/0.6.1/machinist_2.12-0.6.1-sources.jar\n",
      "Downloaded https://repo1.maven.org/maven2/org/typelevel/machinist_2.12/0.6.1/machinist_2.12-0.6.1-sources.jar\n",
      "Downloading https://repo1.maven.org/maven2/org/typelevel/spire_2.12/0.14.1/spire_2.12-0.14.1-sources.jar\n",
      "Downloaded https://repo1.maven.org/maven2/org/typelevel/spire_2.12/0.14.1/spire_2.12-0.14.1-sources.jar\n",
      "Downloaded https://repo1.maven.org/maven2/org/scala-lang/scala-reflect/2.12.0/scala-reflect-2.12.0.jar\n",
      "Downloaded https://repo1.maven.org/maven2/org/scala-lang/scala-library/2.12.1/scala-library-2.12.1-sources.jar\n",
      "Downloaded https://repo1.maven.org/maven2/org/typelevel/cats-kernel_2.12/0.9.0/cats-kernel_2.12-0.9.0.jar\n",
      "Downloaded https://repo1.maven.org/maven2/org/scala-lang/scala-library/2.12.1/scala-library-2.12.1.jar\n",
      "Downloaded https://repo1.maven.org/maven2/org/typelevel/spire_2.12/0.14.1/spire_2.12-0.14.1.jar\n"
     ]
    },
    {
     "data": {
      "text/plain": [
       "\u001b[32mimport \u001b[39m\u001b[36m$ivy.$                                   // Or use any other 2.x version here\n",
       "\u001b[39m\n",
       "\u001b[32mimport \u001b[39m\u001b[36m$ivy.$                               // Not required since almond 0.7.0 (will be automatically added when importing spark)\n",
       "\u001b[39m\n",
       "\u001b[32mimport \u001b[39m\u001b[36m$ivy.$                         \n",
       "\u001b[39m\n",
       "\u001b[32mimport \u001b[39m\u001b[36m$ivy.$                            \u001b[39m"
      ]
     },
     "execution_count": 1,
     "metadata": {},
     "output_type": "execute_result"
    }
   ],
   "source": [
    "import $ivy.`org.apache.spark::spark-sql:2.4.0` // Or use any other 2.x version here\n",
    "import $ivy.`sh.almond::almond-spark:0.8.2` // Not required since almond 0.7.0 (will be automatically added when importing spark)\n",
    "import $ivy.`org.scalanlp::breeze:1.0`\n",
    "import $ivy.`org.typelevel::spire:0.14.1`"
   ]
  },
  {
   "cell_type": "code",
   "execution_count": 2,
   "metadata": {
    "collapsed": true,
    "jupyter": {
     "outputs_hidden": true
    }
   },
   "outputs": [
    {
     "data": {
      "text/plain": [
       "\u001b[32mimport \u001b[39m\u001b[36mbreeze.linalg._\n",
       "\u001b[39m\n",
       "\u001b[32mimport \u001b[39m\u001b[36mbreeze.numerics._\n",
       "\u001b[39m\n",
       "\u001b[32mimport \u001b[39m\u001b[36mspire.implicits._\n",
       "\u001b[39m\n",
       "\u001b[32mimport \u001b[39m\u001b[36mspire.math._\u001b[39m"
      ]
     },
     "execution_count": 2,
     "metadata": {},
     "output_type": "execute_result"
    }
   ],
   "source": [
    "import breeze.linalg._\n",
    "import breeze.numerics._\n",
    "import spire.implicits._\n",
    "import spire.math._"
   ]
  },
  {
   "cell_type": "markdown",
   "metadata": {},
   "source": [
    "---"
   ]
  },
  {
   "cell_type": "markdown",
   "metadata": {},
   "source": [
    "## Chapter 5: Statistics"
   ]
  },
  {
   "cell_type": "markdown",
   "metadata": {},
   "source": [
    "### Central Tendencies"
   ]
  },
  {
   "cell_type": "code",
   "execution_count": 55,
   "metadata": {},
   "outputs": [
    {
     "data": {
      "text/plain": [
       "\u001b[36mx\u001b[39m: \u001b[32mDenseVector\u001b[39m[\u001b[32mDouble\u001b[39m] = DenseVector(1.0, 2.0, 3.0, 4.0, 5.0, 5.0, 4.0, 3.0, 2.0, 2.0, 1.0, 3.0, 3.0, 3.0, 3.0, 4.0, 3.0, 3.0, 2.0, 2.0)"
      ]
     },
     "execution_count": 55,
     "metadata": {},
     "output_type": "execute_result"
    }
   ],
   "source": [
    "val x = DenseVector[Double](1, 2, 3, 4, 5, 5, 4, 3, 2, 2, 1, 3, 3, 3, 3, 4, 3, 3, 2, 2)"
   ]
  },
  {
   "cell_type": "code",
   "execution_count": 56,
   "metadata": {},
   "outputs": [
    {
     "data": {
      "text/plain": [
       "\u001b[36mres55\u001b[39m: (\u001b[32mDouble\u001b[39m, \u001b[32mInt\u001b[39m) = (\u001b[32m3.0\u001b[39m, \u001b[32m8\u001b[39m)"
      ]
     },
     "execution_count": 56,
     "metadata": {},
     "output_type": "execute_result"
    }
   ],
   "source": [
    "x.toArray.groupBy(identity).mapValues(_.length).toSeq.sortBy(_._2).reverse(0)"
   ]
  },
  {
   "cell_type": "code",
   "execution_count": 57,
   "metadata": {},
   "outputs": [
    {
     "data": {
      "text/plain": [
       "defined \u001b[32mfunction\u001b[39m \u001b[36mint2bool\u001b[39m\n",
       "defined \u001b[32mfunction\u001b[39m \u001b[36mmean\u001b[39m\n",
       "defined \u001b[32mfunction\u001b[39m \u001b[36mmedian\u001b[39m\n",
       "defined \u001b[32mfunction\u001b[39m \u001b[36mquantile\u001b[39m\n",
       "defined \u001b[32mfunction\u001b[39m \u001b[36mmode\u001b[39m"
      ]
     },
     "execution_count": 57,
     "metadata": {},
     "output_type": "execute_result"
    }
   ],
   "source": [
    "implicit def int2bool(i:Int) = if (i == 0) false else true\n",
    "\n",
    "def mean(xs: DenseVector[Double]): Double = {\n",
    "    xs.sum / xs.length\n",
    "}\n",
    "\n",
    "def median(xs: DenseVector[Double]): Double = {\n",
    "    val sortedXs = xs.toArray.sorted\n",
    "    if((sortedXs.length % 2)) {\n",
    "        return sortedXs(sortedXs.length / 2)\n",
    "    } else {\n",
    "        val midLo = sortedXs.length / 2\n",
    "        val midHi = midLo + 1\n",
    "        return mean(DenseVector[Double](midLo, midHi))\n",
    "    }\n",
    "}\n",
    "\n",
    "def quantile(xs: DenseVector[Double], p: Double): Double = {\n",
    "    val pIdx = (xs.length * p).floor.toInt\n",
    "    val sortedXs = xs.toArray.sorted\n",
    "    sortedXs(pIdx)\n",
    "}\n",
    "\n",
    "def mode(xs: DenseVector[Double]): Double = {\n",
    "    xs.toArray.groupBy(identity).mapValues(_.length).toSeq.sortBy(_._2).reverse(0)._1\n",
    "}"
   ]
  },
  {
   "cell_type": "markdown",
   "metadata": {},
   "source": [
    "### Dispersion"
   ]
  },
  {
   "cell_type": "code",
   "execution_count": 69,
   "metadata": {},
   "outputs": [
    {
     "name": "stderr",
     "output_type": "stream",
     "text": [
      "cmd69.sc:1: could not find implicit value for parameter ev: spire.algebra.RightModule[breeze.linalg.DenseVector[Double],breeze.linalg.DenseVector[Double]]\n",
      "val res69 = (x, x.:*(x))\n",
      "                    ^Compilation Failed"
     ]
    },
    {
     "ename": "",
     "evalue": "",
     "output_type": "error",
     "traceback": [
      "Compilation Failed"
     ]
    }
   ],
   "source": [
    "(x, x * x)"
   ]
  },
  {
   "cell_type": "code",
   "execution_count": 71,
   "metadata": {},
   "outputs": [
    {
     "data": {
      "text/plain": [
       "\u001b[36mres70\u001b[39m: \u001b[32mDouble\u001b[39m = \u001b[32m15.0\u001b[39m"
      ]
     },
     "execution_count": 71,
     "metadata": {},
     "output_type": "execute_result"
    }
   ],
   "source": [
    "x.sum"
   ]
  },
  {
   "cell_type": "code",
   "execution_count": 82,
   "metadata": {},
   "outputs": [
    {
     "data": {
      "text/plain": [
       "defined \u001b[32mfunction\u001b[39m \u001b[36mdemean\u001b[39m\n",
       "defined \u001b[32mfunction\u001b[39m \u001b[36mvariance\u001b[39m\n",
       "defined \u001b[32mfunction\u001b[39m \u001b[36mstdev\u001b[39m\n",
       "defined \u001b[32mfunction\u001b[39m \u001b[36minterquartileRange\u001b[39m"
      ]
     },
     "execution_count": 82,
     "metadata": {},
     "output_type": "execute_result"
    }
   ],
   "source": [
    "def demean(xs: DenseVector[Double]): DenseVector[Double] = {\n",
    "    val xsMean = mean(xs)\n",
    "    xs - xsMean\n",
    "}\n",
    "\n",
    "def variance(xs: DenseVector[Double]): Double = {\n",
    "    val deviationFromMean: DenseVector[Double] = demean(xs)\n",
    "    val squareDevFromMean: DenseVector[Double] = deviationFromMean * deviationFromMean\n",
    "    squareDevFromMean.sum / (xs.size-1)\n",
    "}\n",
    "\n",
    "def stdev(xs: DenseVector[Double]): Double = {\n",
    "    variance(xs).sqrt\n",
    "}\n",
    "\n",
    "def interquartileRange(xs: DenseVector[Double]): Double = {\n",
    "    quantile(xs, 0.75) - quantile(xs, 0.25)\n",
    "}"
   ]
  },
  {
   "cell_type": "markdown",
   "metadata": {},
   "source": [
    "### Correlation"
   ]
  },
  {
   "cell_type": "code",
   "execution_count": 94,
   "metadata": {},
   "outputs": [
    {
     "data": {
      "text/plain": [
       "defined \u001b[32mfunction\u001b[39m \u001b[36mcovariance\u001b[39m\n",
       "defined \u001b[32mfunction\u001b[39m \u001b[36mcorrelation\u001b[39m"
      ]
     },
     "execution_count": 94,
     "metadata": {},
     "output_type": "execute_result"
    }
   ],
   "source": [
    "def covariance(xs: DenseVector[Double], ys: DenseVector[Double]): Double = {\n",
    "    demean(xs).dot(demean(ys)) / (xs.size-1)\n",
    "}\n",
    "\n",
    "def correlation(xs: DenseVector[Double], ys: DenseVector[Double]): Double = {\n",
    "    covariance(xs, ys) / (stdev(xs) * stdev(ys))\n",
    "}"
   ]
  },
  {
   "cell_type": "markdown",
   "metadata": {},
   "source": [
    "---"
   ]
  },
  {
   "cell_type": "markdown",
   "metadata": {},
   "source": [
    "## Chapter 6: Probability"
   ]
  },
  {
   "cell_type": "code",
   "execution_count": null,
   "metadata": {},
   "outputs": [],
   "source": []
  }
 ],
 "metadata": {
  "kernelspec": {
   "display_name": "Scala",
   "language": "scala",
   "name": "scala"
  },
  "language_info": {
   "codemirror_mode": "text/x-scala",
   "file_extension": ".scala",
   "mimetype": "text/x-scala",
   "name": "scala",
   "nbconvert_exporter": "script",
   "version": "2.12.9"
  }
 },
 "nbformat": 4,
 "nbformat_minor": 4
}
